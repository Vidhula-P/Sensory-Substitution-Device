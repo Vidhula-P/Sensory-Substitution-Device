{
 "cells": [
  {
   "cell_type": "markdown",
   "metadata": {},
   "source": [
    "## Part 1 of Image to Sound: Image to frequency"
   ]
  },
  {
   "cell_type": "code",
   "execution_count": 1,
   "metadata": {},
   "outputs": [],
   "source": [
    "import cv2\n",
    "import numpy as np\n",
    "import matplotlib.pyplot as plt"
   ]
  },
  {
   "cell_type": "markdown",
   "metadata": {},
   "source": [
    "#### Defining required functions"
   ]
  },
  {
   "cell_type": "code",
   "execution_count": 2,
   "metadata": {},
   "outputs": [],
   "source": [
    "# Contour detection\n",
    "def contour(img, sample_rate):\n",
    "    # convert the image to grayscale format\n",
    "    img_gray = cv2.cvtColor(img, cv2.COLOR_BGR2GRAY)\n",
    "\n",
    "    #blur the image using Gaussian filter for noise reduction\n",
    "    img_blur = cv2.GaussianBlur(img_gray, (3,3), 0)\n",
    "    \n",
    "    sobelx = cv2.Sobel(src=img_blur, ddepth=cv2.CV_64F, dx=1, dy=0, ksize=3)\n",
    "    sobely = cv2.Sobel(src=img_blur, ddepth=cv2.CV_64F, dx=0, dy=1, ksize=3)\n",
    "    sobelxy= np.sqrt(sobelx**2 + sobely**2)\n",
    "    sobelxy_abs = cv2.convertScaleAbs(sobelxy)\n",
    "\n",
    "    contours, _ = cv2.findContours(sobelxy_abs, cv2.RETR_EXTERNAL, cv2.CHAIN_APPROX_NONE)\n",
    "\n",
    "    # Find the largest contour by area\n",
    "    main_contour = max(contours, key=cv2.contourArea)\n",
    "\n",
    "    # Extract (x, y) points from the main contour\n",
    "    contour_points = main_contour[:, 0, :]  # Extract (x, y) pairs\n",
    "    x_contour = contour_points[:, 0]\n",
    "    y_contour = contour_points[:, 1]\n",
    "\n",
    "    # Downsample the contour points\n",
    "    x_contour = x_contour[::sample_rate]\n",
    "    y_contour = y_contour[::sample_rate]\n",
    "    \n",
    "    return x_contour, y_contour"
   ]
  },
  {
   "cell_type": "code",
   "execution_count": 3,
   "metadata": {},
   "outputs": [],
   "source": [
    "#Fourier Series coefficients\n",
    "def fourier_coefficients(x, y, n):\n",
    "    #n- number of fourier coefficients\n",
    "    L = 0 #total length\n",
    "\n",
    "    #coefficients for x\n",
    "    an = np.zeros(n)\n",
    "    bn = np.zeros(n)\n",
    "\n",
    "    #coefficients for y\n",
    "    cn = np.zeros(n)\n",
    "    dn = np.zeros(n)\n",
    "\n",
    "    # Arrays for storage of edge length information\n",
    "    dx = np.zeros(len(x))\n",
    "    dy = np.zeros(len(x))\n",
    "    dl = np.zeros(len(x))\n",
    "\n",
    "    # Arrays for storage of sccumulated length information\n",
    "    xj     = np.zeros(len(x))\n",
    "    yj     = np.zeros(len(x))\n",
    "    lj     = np.zeros(len(x))\n",
    "    lj_prev= np.zeros(len(x))\n",
    "\n",
    "    # Variables for maintaining cumulative length calculation\n",
    "    sum_x = 0\n",
    "    sum_y = 0\n",
    "    sum_l = 0\n",
    "\n",
    "    for i in range (0, len(x)):\n",
    "        dx[i] = x[i] -  x[i-1]\n",
    "        dy[i] = y[i] -  y[i-1]\n",
    "        dl[i] = np.sqrt( dx[i]**2 + dy[i]**2 )\n",
    "\n",
    "        xj[i]      = sum_x + dx[i]\n",
    "        yj[i]      = sum_y + dy[i]\n",
    "        lj[i]      = sum_l + dl[i]\n",
    "        lj_prev[i] = sum_l\n",
    "\n",
    "        sum_x = xj[i]\n",
    "        sum_y = yj[i]\n",
    "        sum_l = lj[i]\n",
    "\n",
    "        L = L + dl[i]\n",
    "\n",
    "\n",
    "    #calculating the summation for coefficient\n",
    "    for i in range (0, n):\n",
    "        n = i+1\n",
    "        constant = L/(2*(np.pi**2.0)*(n**2.0))\n",
    "\n",
    "        temp1 = dx/dl\n",
    "        temp2 = dy/dl\n",
    "\n",
    "        temp3 = (np.cos((2 *np.pi*n*lj)/L) - np.cos((2*np.pi*n*lj_prev)/L))\n",
    "        temp4 = (np.sin((2 *np.pi*n*lj)/L) - np.sin((2*np.pi*n*lj_prev)/L))\n",
    "\n",
    "        an[i] = constant*np.sum(temp1*temp3)\n",
    "        bn[i] = constant*np.sum(temp1*temp4)\n",
    "\n",
    "        cn[i] = constant*np.sum(temp2*temp3)\n",
    "        dn[i] = constant*np.sum(temp2*temp4)\n",
    "    \n",
    "    return an, bn, cn, dn, L"
   ]
  },
  {
   "cell_type": "code",
   "execution_count": 4,
   "metadata": {},
   "outputs": [],
   "source": [
    "#Inverse Fourier\n",
    "def fourier_waves(L, an, bn, cn, dn):\n",
    "    l = np.linspace(0, L, 1000)\n",
    "    approx_x = np.zeros(len(l))\n",
    "    approx_y = np.zeros(len(l))\n",
    "    #coefficients for x\n",
    "    x_cos = np.zeros(len(l))\n",
    "    x_sin = np.zeros(len(l))\n",
    "\n",
    "    #coefficients for y\n",
    "    y_cos = np.zeros(len(l))\n",
    "    y_sin = np.zeros(len(l))\n",
    "    \n",
    "\n",
    "    for i in range(len(an)):\n",
    "\n",
    "        x_cos = an[i]*np.cos((2*np.pi*(i+1)*l)/L)\n",
    "        x_sin = bn[i]*np.sin((2*np.pi*(i+1)*l)/L)\n",
    "        approx_x += (x_cos + x_sin)  \n",
    "\n",
    "        y_cos = cn[i]*np.cos((2*np.pi*(i+1)*l)/L)\n",
    "        y_sin = dn[i]*np.sin((2*np.pi*(i+1)*l)/L)\n",
    "        approx_y += (y_cos + y_sin)\n",
    "    return approx_x, approx_y"
   ]
  },
  {
   "cell_type": "markdown",
   "metadata": {},
   "source": [
    "## Fourier Series to convert space to frequency domain"
   ]
  },
  {
   "cell_type": "markdown",
   "metadata": {},
   "source": [
    "#### Loading image"
   ]
  },
  {
   "cell_type": "code",
   "execution_count": 5,
   "metadata": {},
   "outputs": [],
   "source": [
    "#Load and convert image to grayscale\n",
    "img = cv2.imread('drawing.png')\n",
    "assert img is not None, \"Image path not loaded correctly\"\n",
    "img = cv2.cvtColor(img, cv2.COLOR_BGR2RGB) #CV uses BGR instead of RGB\n",
    "\n",
    "# convert the image to grayscale format\n",
    "img_gray = cv2.cvtColor(img, cv2.COLOR_BGR2GRAY)\n",
    "\n",
    "#blur the image using Gaussian filter for noise reduction\n",
    "img_blur = cv2.GaussianBlur(img_gray, (3,3), 0)"
   ]
  },
  {
   "cell_type": "markdown",
   "metadata": {},
   "source": [
    "#### Sobel Edge detection"
   ]
  },
  {
   "cell_type": "code",
   "execution_count": 6,
   "metadata": {},
   "outputs": [
    {
     "data": {
      "image/png": "[encoded data removed]",
      "text/plain": [
       "<Figure size 288x288 with 2 Axes>"
      ]
     },
     "metadata": {
      "needs_background": "light"
     },
     "output_type": "display_data"
    }
   ],
   "source": [
    "# Plot all contours without filtering, to inspect the results\n",
    "x_contour, y_contour = contour(img, 10) #sample every 20 points\n",
    "\n",
    "fig, axs = plt.subplots(1, 2, figsize=(4,4))\n",
    "axs[0].imshow(img)\n",
    "axs[0].set_title(\"Original image\")\n",
    "axs[0].axis('off')\n",
    "\n",
    "axs[1].plot(x_contour, y_contour, color='red', linestyle='None', marker='o')\n",
    "axs[1].invert_yaxis() #In computer vision, origin is in top-left\n",
    "axs[1].set_title(\"Contour points\")\n",
    "axs[1].axis('off')\n",
    "plt.show()"
   ]
  },
  {
   "cell_type": "markdown",
   "metadata": {},
   "source": [
    "#### Calculating Fourier coefficients"
   ]
  },
  {
   "cell_type": "code",
   "execution_count": 7,
   "metadata": {},
   "outputs": [],
   "source": [
    "n=100 #Use n coefficients\n",
    "\n",
    "#coefficients for x\n",
    "an = np.zeros(n)\n",
    "bn = np.zeros(n)\n",
    "\n",
    "#coefficients for y\n",
    "cn = np.zeros(n)\n",
    "dn = np.zeros(n)\n",
    "\n",
    "an, bn, cn, dn, L = fourier_coefficients(x_contour, y_contour, n)"
   ]
  },
  {
   "cell_type": "markdown",
   "metadata": {},
   "source": [
    "#### Inverse Fourier to approximate image"
   ]
  },
  {
   "cell_type": "code",
   "execution_count": 8,
   "metadata": {},
   "outputs": [
    {
     "data": {
      "image/png": "[encoded data removed]",
      "text/plain": [
       "<Figure size 288x288 with 1 Axes>"
      ]
     },
     "metadata": {
      "needs_background": "light"
     },
     "output_type": "display_data"
    }
   ],
   "source": [
    "approx_x, approx_y = fourier_waves(L, an, bn, cn, dn)\n",
    "\n",
    "plt.figure(figsize=(4,4))\n",
    "plt.gca().invert_yaxis() #In computer vision, origin is in top-left\n",
    "plt.plot(approx_x, approx_y, 'b')\n",
    "plt.show()"
   ]
  },
  {
   "cell_type": "code",
   "execution_count": null,
   "metadata": {},
   "outputs": [],
   "source": []
  }
 ],
 "metadata": {
  "kernelspec": {
   "display_name": "Python 3",
   "language": "python",
   "name": "python3"
  },
  "language_info": {
   "codemirror_mode": {
    "name": "ipython",
    "version": 3
   },
   "file_extension": ".py",
   "mimetype": "text/x-python",
   "name": "python",
   "nbconvert_exporter": "python",
   "pygments_lexer": "ipython3",
   "version": "3.8.3"
  }
 },
 "nbformat": 4,
 "nbformat_minor": 4
}
